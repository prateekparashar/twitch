{
 "cells": [
  {
   "cell_type": "markdown",
   "metadata": {},
   "source": [
    "Importing Files"
   ]
  },
  {
   "cell_type": "code",
   "execution_count": null,
   "metadata": {},
   "outputs": [],
   "source": [
    "import json\n",
    "import requests\n",
    "import pandas as pd\n",
    "from pandas.io.json import json_normalize\n",
    "import time\n",
    "import threading"
   ]
  },
  {
   "cell_type": "markdown",
   "metadata": {},
   "source": [
    "Getting an access code to perform Data pulls"
   ]
  },
  {
   "cell_type": "code",
   "execution_count": null,
   "metadata": {},
   "outputs": [],
   "source": [
    "# client_id = -------XXXXXX---------\n",
    "# client_secret = -------YYYYY---------\n",
    "\n",
    "client_id = '-------XXXXXX---------'\n",
    "client_secret = '-------YYYYYY---------'\n",
    "\n",
    "access_code = requests.post('https://id.twitch.tv/oauth2/token?client_id='+str(client_id)+'&client_secret='+str(client_secret)+'&grant_type=client_credentials')\n",
    "\n",
    "access_token = json.loads(access_code.text)['access_token']\n",
    "\n",
    "## The header is passes in each get request\n",
    "\n",
    "headers = {\n",
    "    'Authorization' : 'Bearer '+str(access_token),\n",
    "    'Client-ID' : str(client_id)\n",
    "}"
   ]
  },
  {
   "cell_type": "markdown",
   "metadata": {},
   "source": [
    "Getting the top 100 games and the top 25 streams in each game.\n",
    "Creating initial df to store subsequent pulls"
   ]
  },
  {
   "cell_type": "code",
   "execution_count": null,
   "metadata": {},
   "outputs": [],
   "source": [
    "games_response = requests.get('https://api.twitch.tv/helix/games/top?first=100', headers=headers)\n",
    "\n",
    "games_response_json = json.loads(games_response.text)\n",
    "topgames_data = games_response_json['data']\n",
    "topgames_df = pd.DataFrame.from_dict(json_normalize(topgames_data), orient='columns')\n",
    "\n",
    "topstreamsforgame_response = requests.get('https://api.twitch.tv/helix/streams?game_id='+str(topgames_df['id'][0])+'&first=25', headers=headers)\n",
    "\n",
    "topstreamsforgame_response_json = json.loads(topstreamsforgame_response.text)\n",
    "topstreamsforgame_data = topstreamsforgame_response_json['data']\n",
    "topstreamsforgame_df = pd.DataFrame.from_dict(json_normalize(topstreamsforgame_data), orient='columns')"
   ]
  },
  {
   "cell_type": "markdown",
   "metadata": {},
   "source": [
    "For loop to get top 25 streams for each game"
   ]
  },
  {
   "cell_type": "code",
   "execution_count": null,
   "metadata": {},
   "outputs": [],
   "source": [
    "for i in range(1,19) :\n",
    "    \n",
    "        topstreamsforgame_response = requests.get('https://api.twitch.tv/helix/streams?game_id='+str(topgames_df['id'][i])+'&first=25', headers=headers)\n",
    "    \n",
    "        topstreamsforgame_response_json = json.loads(topstreamsforgame_response.text)\n",
    "        topstreamsforgame_data = topstreamsforgame_response_json['data']\n",
    "        topstreamsforgame_df_temp = pd.DataFrame.from_dict(json_normalize(topstreamsforgame_data), orient='columns')\n",
    "    \n",
    "        frames = [topstreamsforgame_df, topstreamsforgame_df_temp]\n",
    "        topstreamsforgame_df = pd.concat(frames, ignore_index=True)"
   ]
  },
  {
   "cell_type": "markdown",
   "metadata": {},
   "source": [
    "Exporting the files to be used in Tableau Dashboard"
   ]
  },
  {
   "cell_type": "code",
   "execution_count": null,
   "metadata": {},
   "outputs": [],
   "source": [
    "export_topgames_csv = topgames_df.to_csv (r'C:/Users/prparash/Documents/Python Scripts/topgames.csv', index = None, header=True)\n",
    "export_topstreamsforgame_csv = topstreamsforgame_df.to_csv (r'C:/Users/prparash/Documents/Python Scripts/topstreams.csv', index = None, header=True)"
   ]
  }
 ],
 "metadata": {
  "kernelspec": {
   "display_name": "Python 3",
   "language": "python",
   "name": "python3"
  },
  "language_info": {
   "codemirror_mode": {
    "name": "ipython",
    "version": 3
   },
   "file_extension": ".py",
   "mimetype": "text/x-python",
   "name": "python",
   "nbconvert_exporter": "python",
   "pygments_lexer": "ipython3",
   "version": "3.7.4"
  }
 },
 "nbformat": 4,
 "nbformat_minor": 2
}
